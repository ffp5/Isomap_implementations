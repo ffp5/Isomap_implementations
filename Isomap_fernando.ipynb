{
 "cells": [
  {
   "cell_type": "markdown",
   "metadata": {},
   "source": [
    "## Project idea 4:\n",
    "### implement and test at least 6 different variants of Isomap for DGP: the three above, and at least three new ones of your own conception"
   ]
  },
  {
   "cell_type": "code",
   "execution_count": null,
   "metadata": {},
   "outputs": [],
   "source": [
    "\n",
    "import sys\n",
    "import numpy as np\n",
    "import math\n",
    "import types\n",
    "import matplotlib.pyplot as plt\n",
    "import networkx as nx\n",
    "import random\n",
    "from math import e\n",
    "from re import M, T\n"
   ]
  },
  {
   "cell_type": "markdown",
   "metadata": {},
   "source": [
    "### Isomap for DGP\n"
   ]
  },
  {
   "cell_type": "code",
   "execution_count": null,
   "metadata": {},
   "outputs": [],
   "source": [
    "def biconnected_graph(n,bool=False):\n",
    "    \"\" \"Generate a random biconnected graph with n nodes\" \"\"\n",
    "    X = nx.gnp_random_graph(n, 0.5, directed=False)\n",
    "    while(not nx.is_biconnected(X)):\n",
    "        X = nx.gnp_random_graph(n, 0.5, directed=False)\n",
    "    for (u, v) in X.edges():\n",
    "        X[u][v]['weight'] = random.randint(1, 10)\n",
    "    if bool:\n",
    "        nx.draw(X, with_labels=True)\n",
    "        plt.show()\n",
    "    return X\n",
    "\n",
    "def create_ampl_dat_grah(D, filename):\n",
    "    \"\" \"Create a .dat file for the ampl model\" \"\"\n",
    "    with open(filename, 'w') as file:\n",
    "        file.write(\"# gen by python\\n\")\n",
    "        file.write(\"param Kdim := 3;\\n\")\n",
    "        file.write(\"param n := \" + str(len(D.nodes())) + \";\\n\")\n",
    "        file.write(\"param : E : c I :=\\n\")\n",
    "        for (u, v) in D.edges():\n",
    "            file.write(\"\"+str(u+1) + \" \" + str(v+1) + \" \" + str(D[u][v]['weight'])+ \" \"+\"1\\n\")\n",
    "        file.write(\";\\n\")\n",
    "        file.close()\n",
    "        \n",
    "def floyd_warshall(D):\n",
    "    D_prime= nx.to_numpy_array(D)\n",
    "    \"\" \"Floyd-Warshall algorithm that take an nx and return an array\" \"\"\n",
    "    for i in range(D_prime.shape[0]):\n",
    "        for j in range(D_prime.shape[1]):\n",
    "            if i != j and D_prime[i][j] == 0:\n",
    "                D_prime[i][j] = math.inf\n",
    "    for i in range(D_prime.shape[0]):\n",
    "        for j in range(D_prime.shape[1]):\n",
    "                for k in range(D_prime.shape[0]):\n",
    "                    if i != k and j != k and i !=j:\n",
    "                        if D_prime[i][j] > D_prime[i][k] + D_prime[k][j]:\n",
    "                            D_prime[i][j] = D_prime[i][k] + D_prime[k][j]\n",
    "    if np.array_equal(D_prime, D_prime.T):\n",
    "        return D_prime\n",
    "    else:\n",
    "        print(\"error:The graph is not symetric\")\n",
    "        return None\n",
    "    \n",
    "## return the distance matrix of a realization\n",
    "def distanceMatrix(x, p=2):\n",
    "    n = len(x[:,0])\n",
    "    D = np.zeros((n,n))\n",
    "    for u in range(n-1):\n",
    "        for v in range(u+1,n):\n",
    "            D[u,v] = np.linalg.norm(np.subtract(x[u,:],x[v,:]), ord=p)\n",
    "            D[v,u] = D[u,v]\n",
    "    return D\n",
    "\n",
    "## convert a distance matrix to a Gram matrix\n",
    "def dist2Gram(D):\n",
    "    n = D.shape[0]\n",
    "    J = np.identity(n) - (1.0/n)*np.ones((n,n))\n",
    "    G = -0.5 * np.dot(J,np.dot(np.square(D), J))\n",
    "    return G\n",
    "\n",
    "## factor a square matrix\n",
    "def factor(A):\n",
    "    n = A.shape[0]\n",
    "    (evals,evecs) = np.linalg.eigh(A)\n",
    "    evals[evals < 0] = 0  # closest SDP matrix\n",
    "    X = evecs #np.transpose(evecs)\n",
    "    sqrootdiag = np.eye(n)\n",
    "    for i in range(n):\n",
    "        sqrootdiag[i,i] = math.sqrt(evals[i])\n",
    "    X = X.dot(sqrootdiag)\n",
    "    return np.fliplr(X)\n",
    "\n",
    "## classic Multidimensional scaling\n",
    "def MDS(B, eps = 1e-9):\n",
    "    n = B.shape[0]\n",
    "    x = factor(B)\n",
    "    (evals,evecs) = np.linalg.eigh(x)\n",
    "    K = len(evals[evals > eps])\n",
    "    if K < n:\n",
    "        # only first K columns\n",
    "        x = x[:,0:K]\n",
    "    return x\n",
    "\n",
    "## principal component analysis\n",
    "def PCA(B, K):\n",
    "    x = factor(B)\n",
    "    n = B.shape[0]\n",
    "    if isinstance(K, str):\n",
    "        K = n\n",
    "    if K < n:\n",
    "        # only first K columns\n",
    "        x = x[:,0:K]\n",
    "    return x\n",
    "\n",
    "def complete_PCA_part(D,eps,representation=True):\n",
    "    G=dist2Gram(D)\n",
    "    X=MDS(G,eps)\n",
    "    n=X.shape[0]\n",
    "    K=X.shape[1]\n",
    "    print(\"dimension can be reduced from\", n, \"to\", K)\n",
    "\n",
    "    if representation:\n",
    "        if K > 3:\n",
    "            K = 3\n",
    "        elif K < 2:\n",
    "            K = 2\n",
    "        print(\"representing in\", K, \"dimensions\")\n",
    "\n",
    "        X = PCA(G,K)\n",
    "\n",
    "        if K == 2:\n",
    "            plt.scatter(X[:,0], X[:,1])\n",
    "        elif K == 3:\n",
    "            fig = plt.figure()\n",
    "            ax = plt.axes(projection='3d')\n",
    "            ax.scatter(X[:,0], X[:,1], X[:,2])\n",
    "            ax.plot(X[:,0], X[:,1], X[:,2])\n",
    "            ax.set_xlabel('x')\n",
    "            ax.set_ylabel('y')\n",
    "            ax.set_zlabel('z')\n",
    "\n",
    "        plt.show()\n",
    "    else:\n",
    "        X=PCA(G,K)\n",
    "    return X\n",
    "\n"
   ]
  },
  {
   "cell_type": "code",
   "execution_count": null,
   "metadata": {},
   "outputs": [],
   "source": [
    "D=biconnected_graph(10)\n",
    "create_ampl_dat_grah(D, \"graph.dat\")"
   ]
  },
  {
   "cell_type": "code",
   "execution_count": null,
   "metadata": {},
   "outputs": [
    {
     "name": "stdout",
     "output_type": "stream",
     "text": [
      "Note: you may need to restart the kernel to use updated packages.\n",
      "Licensed to Bundle #6415.6806 expiring 20240515: INF580 Large-scale optimization, Leo Liberti, LIX Ecole Polytechnique.\n"
     ]
    }
   ],
   "source": [
    "\n",
    "# The only 3 lines you need to install and use AMPL with any solver on Colab\n",
    "%pip install -q amplpy\n",
    "from amplpy import AMPL, ampl_notebook\n",
    "\n",
    "P = ampl_notebook(\n",
    "    modules=[\"baron\", \"gurobi\"],  # modules to install (guroby is the best solver)\n",
    "    license_uuid=\"bf5b5ed2-ea35-4373-8776-1ab021939a37\",  # license to use\n",
    ")  # instantiate AMPL object and register magics"
   ]
  },
  {
   "cell_type": "code",
   "execution_count": null,
   "metadata": {},
   "outputs": [],
   "source": [
    "%%ampl_eval\n",
    "reset;\n",
    "\n",
    "# DGP formulation 4 (pull-and-push)\n",
    "\t\t\t\t \n",
    "## the protein graph format\n",
    "param Kdim integer, > 0;\n",
    "param n integer, > 0;\n",
    "set V := 1..n;\n",
    "set E within {V,V};\n",
    "param c{E};\n",
    "param I{E};\n",
    "\n",
    "# set of dimensions\n",
    "set K := 1..Kdim;\n",
    "\n",
    "## decision variables\n",
    "# positions of vertices (k-th component of position of vertex v)\n",
    "var x{V,K};\n",
    "\n",
    "maximize pull: sum{(u,v) in E} sum{k in K} (x[u,k] - x[v,k])^2;\n",
    "\n",
    "subject to push{(u,v) in E}: sum{k in K} (x[u,k] - x[v,k])^2 <= c[u,v]^2;\n",
    "\n",
    "#subject to centroid{k in K}: sum{v in V} x[v,k] = 0;\n"
   ]
  },
  {
   "cell_type": "code",
   "execution_count": null,
   "metadata": {},
   "outputs": [
    {
     "name": "stdout",
     "output_type": "stream",
     "text": [
      "BARON 23.3.11 (2023.03.11):  \n",
      "*** A potentially catastrophic access violation just took place \n",
      "*** The search will be terminated by BARON after returning the best known solution \n",
      "*** Please report this problem to Nick Sahinidis (niksah@minlp.com) \n",
      " \n",
      "error running baronin:\n",
      "\ttermination code 11\n",
      "0 iterations, interrupted (Control-C).\n",
      "Objective 0\n"
     ]
    }
   ],
   "source": [
    "P.readData(\"./graph.dat\")\n"
   ]
  },
  {
   "cell_type": "code",
   "execution_count": null,
   "metadata": {},
   "outputs": [],
   "source": [
    "P.setOption(\"solver\", \"gurobi\")\n",
    "P.solve()"
   ]
  }
 ],
 "metadata": {
  "kernelspec": {
   "display_name": ".env",
   "language": "python",
   "name": "python3"
  },
  "language_info": {
   "codemirror_mode": {
    "name": "ipython",
    "version": 3
   },
   "file_extension": ".py",
   "mimetype": "text/x-python",
   "name": "python",
   "nbconvert_exporter": "python",
   "pygments_lexer": "ipython3",
   "version": "3.12.1"
  }
 },
 "nbformat": 4,
 "nbformat_minor": 2
}
